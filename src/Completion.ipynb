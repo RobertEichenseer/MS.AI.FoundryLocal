{
 "cells": [
  {
   "cell_type": "markdown",
   "id": "dd213349",
   "metadata": {},
   "source": [
    "# Local Foundry Inference\n",
    "\n",
    "## Step 1 - Load Environment\n",
    "\n",
    "Uri and model id of the Foundry Local and Phi-4-reasoning model is loaded from the [configuration file](../setup/setup.ps1). "
   ]
  },
  {
   "cell_type": "code",
   "execution_count": 4,
   "id": "d14fc63b",
   "metadata": {
    "polyglot_notebook": {
     "kernelName": "csharp"
    }
   },
   "outputs": [
    {
     "data": {
      "text/html": [
       "<div><div></div><div></div><div><strong>Installed Packages</strong><ul><li><span>Azure.AI.OpenAI, 2.2.0-beta.4</span></li><li><span>DotNetEnv, 3.1.1</span></li></ul></div></div>"
      ]
     },
     "metadata": {},
     "output_type": "display_data"
    },
    {
     "name": "stdout",
     "output_type": "stream",
     "text": [
      "Configuration loaded: \n",
      "\tModel Uri: http://localhost:5273/v1\n",
      "\tModel Id: Phi-4-mini-reasoning-qnn-npu\n"
     ]
    }
   ],
   "source": [
    "#r \"nuget: Azure.AI.OpenAI, 2.2.0-beta.4\"\n",
    "#r \"nuget: DotNetEnv, 3.1.1\"\n",
    "\n",
    "using DotNetEnv;\n",
    "\n",
    "string configurationFile = @\"../config/config.env\";\n",
    "Env.Load(configurationFile);\n",
    "\n",
    "string modelUri = Environment.GetEnvironmentVariable(\"ModelUri\") ?? \"ModelUri not found\";\n",
    "string modelId = Environment.GetEnvironmentVariable(\"ModelId\") ?? \"ModelId not found\";\n",
    "modelUri = modelUri + \"/v1\";\n",
    "\n",
    "Console.WriteLine(\"Configuration loaded: \");\n",
    "Console.WriteLine($\"\\tModel Uri: {modelUri}\");\n",
    "Console.WriteLine($\"\\tModel Id: {modelId}\");"
   ]
  },
  {
   "cell_type": "markdown",
   "id": "8cba0114",
   "metadata": {},
   "source": [
    "## Step 2 - Create Azure OpenAI Client Instance\n",
    "\n",
    "An Azure OpenAI Client instance is created using the previously loaded Foundry Local uri. API key credentials aren't needed as Foundry Local doesn't check Auth/AuthZ currently.\n"
   ]
  },
  {
   "cell_type": "code",
   "execution_count": 5,
   "id": "ad9ace21",
   "metadata": {
    "polyglot_notebook": {
     "kernelName": "csharp"
    }
   },
   "outputs": [
    {
     "name": "stdout",
     "output_type": "stream",
     "text": [
      "OpenAIClient crated ...\r\n"
     ]
    }
   ],
   "source": [
    "using OpenAI;\n",
    "using OpenAI.Chat;\n",
    "using System.ClientModel;\n",
    "\n",
    "ApiKeyCredential apiKeyCredential = new ApiKeyCredential(\"not-needed-for-local\");\n",
    "OpenAIClientOptions openAIClientOptions = new OpenAIClientOptions(){\n",
    "    Endpoint = new Uri(modelUri)\n",
    "};\n",
    "OpenAIClient openAIClient = new OpenAIClient(apiKeyCredential, openAIClientOptions);\n",
    "\n",
    "Console.WriteLine($\"OpenAIClient crated ...\");"
   ]
  },
  {
   "cell_type": "markdown",
   "id": "34536421",
   "metadata": {},
   "source": [
    "## Step 3 - Create Chat Client\n",
    "\n",
    "A default chat client is created and the model id of the loaded SLM is provided during chat client creation. The model id differs from the model alias as it provide additional information about the processor architecture. For example the model id of the phi-4-mini-reasoning model on a Surfae Pro Copilot+ PC with Qualcomm NPU:\n",
    "\n",
    "| Model Alias | Model Id |\n",
    "| ----------- | -------- | \n",
    "| phi-4-mini-reasoning | Phi-4-mini-reasoning-qnn-npu |\n"
   ]
  },
  {
   "cell_type": "code",
   "execution_count": 9,
   "metadata": {
    "polyglot_notebook": {
     "kernelName": "csharp"
    }
   },
   "outputs": [],
   "source": [
    "ChatClient chatClient = openAIClient.GetChatClient(modelId);\n",
    "\n",
    "string prompt = @\"\n",
    "    The Munich Flying Dolphins won the fictious Super Sports Champion Ship 2024!\n",
    "    Show strategies how this could be verified.\n",
    "\";\n",
    "\n",
    "ChatCompletionOptions chatCompletionOptions = new ChatCompletionOptions(){\n",
    "    Temperature = 0.1f\n",
    "};\n"
   ]
  },
  {
   "cell_type": "markdown",
   "id": "77c83a5d",
   "metadata": {},
   "source": [
    "## Step 4 - Chat Completion (Streaming)\n",
    "\n",
    "Prompt and additional grounding is provided to the Foundry Local loaded model and model response is printed as it arrives."
   ]
  },
  {
   "cell_type": "code",
   "execution_count": 10,
   "metadata": {
    "polyglot_notebook": {
     "kernelName": "csharp"
    }
   },
   "outputs": [
    {
     "name": "stdout",
     "output_type": "stream",
     "text": [
      "Model repsonse: \n",
      "<think>\n",
      "Okay, so I need to figure out how the Munich Flying Dolphins won the fictitious Super Sports Champion Ship 2024. Hmm, first, let's break down the problem. The user is asking to show how the victory could be verified. So, the key here is to outline the verification process or the steps that confirm their victory.\n",
      "\n",
      "First, I should consider what the Super Sports Champion Ship entails. Since it's a fictitious event, the specifics can be made up, but the key is to outline a plausible verification process. The key elements are the event's name, the team involved (Munich Flying Dolphins), and the year 2024.\n",
      "\n",
      "So, verification usually involves checking their performance in the tournament. Steps might include checking their match results, standings, possibly trophies, certificates, or official announcements."
     ]
    }
   ],
   "source": [
    "CollectionResult<StreamingChatCompletionUpdate> streaminChatCompletionUpdate = \n",
    "    chatClient.CompleteChatStreaming(prompt);\n",
    "\n",
    "Console.WriteLine($\"Model repsonse: \");\n",
    "foreach (StreamingChatCompletionUpdate streamingChatCompletionUpdate in streaminChatCompletionUpdate)\n",
    "{\n",
    "    if (streamingChatCompletionUpdate.ContentUpdate.Count > 0)\n",
    "    {\n",
    "        Console.Write(streamingChatCompletionUpdate.ContentUpdate[0].Text);\n",
    "    }\n",
    "}"
   ]
  }
 ],
 "metadata": {
  "kernelspec": {
   "display_name": ".NET (C#)",
   "language": "C#",
   "name": ".net-csharp"
  },
  "polyglot_notebook": {
   "kernelInfo": {
    "defaultKernelName": "csharp",
    "items": [
     {
      "aliases": [],
      "name": "csharp"
     }
    ]
   }
  }
 },
 "nbformat": 4,
 "nbformat_minor": 5
}
